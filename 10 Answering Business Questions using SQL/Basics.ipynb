{
 "cells": [
  {
   "cell_type": "markdown",
   "metadata": {
    "collapsed": true
   },
   "source": [
    "# Answering Business Questions using SQL\n",
    "\n",
    "We'll assume the position of The Chinook Record Store to make some business decisions.\n",
    "\n",
    "We'll be using the Chinook dataset which contains fictional data about customers music album purchases.\n",
    "\n",
    "The tables are:\n",
    "- employee\n",
    "- customer\n",
    "- invoice\n",
    "- invoice_line\n",
    "- playlist\n",
    "- playlist_track\n",
    "- track\n",
    "- media_type\n",
    "- artist\n",
    "- album\n",
    "- genre"
   ]
  },
  {
   "cell_type": "markdown",
   "metadata": {},
   "source": [
    "### Creating Helper Functions\n",
    "\n",
    "We'll use two approaches to create connection objects to the SQLite database.\n",
    "\n",
    "1. Create helper functions to save some time\n",
    "2. Use **context manager** to handle the ocnnection to the SQLite database."
   ]
  },
  {
   "cell_type": "code",
   "execution_count": 36,
   "metadata": {
    "collapsed": true
   },
   "outputs": [],
   "source": [
    "import pandas as pd\n",
    "import numpy as np\n",
    "import matplotlib.pyplot as plt\n",
    "import sqlite3"
   ]
  },
  {
   "cell_type": "code",
   "execution_count": 2,
   "metadata": {
    "collapsed": true
   },
   "outputs": [],
   "source": [
    "%matplotlib inline"
   ]
  },
  {
   "cell_type": "code",
   "execution_count": 3,
   "metadata": {
    "collapsed": true
   },
   "outputs": [],
   "source": [
    "db = 'chinook.db'"
   ]
  },
  {
   "cell_type": "code",
   "execution_count": 4,
   "metadata": {
    "collapsed": true
   },
   "outputs": [],
   "source": [
    "# takes a SQL query as an argument and returns a pandas dataframe\n",
    "def run_query(query):\n",
    "    with sqlite3.connect(db) as conn:\n",
    "        return pd.read_sql(query, conn)"
   ]
  },
  {
   "cell_type": "code",
   "execution_count": 5,
   "metadata": {
    "collapsed": true
   },
   "outputs": [],
   "source": [
    "# takes a SQL query as an argument and executes it\n",
    "def run_command(query):\n",
    "    with sqlite3.connect(db) as conn:\n",
    "        conn.isolation_level = None\n",
    "        conn.execute(query)"
   ]
  },
  {
   "cell_type": "code",
   "execution_count": 6,
   "metadata": {
    "collapsed": true
   },
   "outputs": [],
   "source": [
    "# calls the run_query() function and returns a list of all tables and views in the database\n",
    "def show_tables():\n",
    "    query = '''\n",
    "    SELECT\n",
    "        name,\n",
    "        type\n",
    "    FROM sqlite_master\n",
    "    WHERE type IN (\"table\", \"view\");\n",
    "    '''\n",
    "    return run_query(query)"
   ]
  },
  {
   "cell_type": "code",
   "execution_count": 7,
   "metadata": {
    "collapsed": false
   },
   "outputs": [
    {
     "data": {
      "text/html": [
       "<div>\n",
       "<style scoped>\n",
       "    .dataframe tbody tr th:only-of-type {\n",
       "        vertical-align: middle;\n",
       "    }\n",
       "\n",
       "    .dataframe tbody tr th {\n",
       "        vertical-align: top;\n",
       "    }\n",
       "\n",
       "    .dataframe thead th {\n",
       "        text-align: right;\n",
       "    }\n",
       "</style>\n",
       "<table border=\"1\" class=\"dataframe\">\n",
       "  <thead>\n",
       "    <tr style=\"text-align: right;\">\n",
       "      <th></th>\n",
       "      <th>name</th>\n",
       "      <th>type</th>\n",
       "    </tr>\n",
       "  </thead>\n",
       "  <tbody>\n",
       "    <tr>\n",
       "      <th>0</th>\n",
       "      <td>album</td>\n",
       "      <td>table</td>\n",
       "    </tr>\n",
       "    <tr>\n",
       "      <th>1</th>\n",
       "      <td>artist</td>\n",
       "      <td>table</td>\n",
       "    </tr>\n",
       "    <tr>\n",
       "      <th>2</th>\n",
       "      <td>customer</td>\n",
       "      <td>table</td>\n",
       "    </tr>\n",
       "    <tr>\n",
       "      <th>3</th>\n",
       "      <td>employee</td>\n",
       "      <td>table</td>\n",
       "    </tr>\n",
       "    <tr>\n",
       "      <th>4</th>\n",
       "      <td>genre</td>\n",
       "      <td>table</td>\n",
       "    </tr>\n",
       "    <tr>\n",
       "      <th>5</th>\n",
       "      <td>invoice</td>\n",
       "      <td>table</td>\n",
       "    </tr>\n",
       "    <tr>\n",
       "      <th>6</th>\n",
       "      <td>invoice_line</td>\n",
       "      <td>table</td>\n",
       "    </tr>\n",
       "    <tr>\n",
       "      <th>7</th>\n",
       "      <td>media_type</td>\n",
       "      <td>table</td>\n",
       "    </tr>\n",
       "    <tr>\n",
       "      <th>8</th>\n",
       "      <td>playlist</td>\n",
       "      <td>table</td>\n",
       "    </tr>\n",
       "    <tr>\n",
       "      <th>9</th>\n",
       "      <td>playlist_track</td>\n",
       "      <td>table</td>\n",
       "    </tr>\n",
       "    <tr>\n",
       "      <th>10</th>\n",
       "      <td>track</td>\n",
       "      <td>table</td>\n",
       "    </tr>\n",
       "  </tbody>\n",
       "</table>\n",
       "</div>"
      ],
      "text/plain": [
       "              name   type\n",
       "0            album  table\n",
       "1           artist  table\n",
       "2         customer  table\n",
       "3         employee  table\n",
       "4            genre  table\n",
       "5          invoice  table\n",
       "6     invoice_line  table\n",
       "7       media_type  table\n",
       "8         playlist  table\n",
       "9   playlist_track  table\n",
       "10           track  table"
      ]
     },
     "execution_count": 7,
     "metadata": {},
     "output_type": "execute_result"
    }
   ],
   "source": [
    "show_tables() # take a look at the db tables and views"
   ]
  },
  {
   "cell_type": "markdown",
   "metadata": {},
   "source": [
    "### Selecting Albums to Purchase\n",
    "\n",
    "The scenario we're given here is the record store just signed a deal with a new record label and we're tasked to select the first three albums from a list of four to add to the store. None of the artists have any tracks in the store right now - all we have right now are the names and genre.\n",
    "\n",
    "| Artist Name | Genre |\n",
    "| --- | --- |\n",
    "| Regal | Hip-Hop|\n",
    "| Red Tone | Punk |\n",
    "| Meteor and the Girls | Pop |\n",
    "| Slim Jim Bites | Blues |\n",
    "\n",
    "The record label specializes in artists from the USA so we're interested in finding which genres sell in the country."
   ]
  },
  {
   "cell_type": "code",
   "execution_count": 8,
   "metadata": {
    "collapsed": false
   },
   "outputs": [],
   "source": [
    "usa_query ='''\n",
    "WITH\n",
    "\tusa_purchase AS\n",
    "\t\t(\n",
    "\t\tSELECT\n",
    "\t\t\tinl.*\n",
    "\t\tFROM invoice AS i\n",
    "\t\tINNER JOIN customer AS c ON i.customer_id = c.customer_id\n",
    "\t\tINNER JOIN invoice_line AS inl ON i.invoice_id = inl.invoice_id\n",
    "\t\tWHERE c.country = 'USA'\n",
    "\t\t)\n",
    "\n",
    "SELECT\n",
    "\tg.name as genre_name,\n",
    "\tCOUNT(u.invoice_line_id) AS num_tracks_sold,\n",
    "\tCAST(COUNT(u.invoice_line_id)  AS FLOAT)/ CAST((SELECT COUNT(*) FROM usa_purchase) AS FLOAT) AS percent_sold\n",
    "FROM usa_purchase AS u\n",
    "INNER JOIN track as t ON u.track_id = t.track_id \n",
    "INNER JOIN genre as g ON t.genre_id = g.genre_id\n",
    "GROUP BY genre_name\n",
    "ORDER BY num_tracks_sold DESC \n",
    "'''"
   ]
  },
  {
   "cell_type": "code",
   "execution_count": 9,
   "metadata": {
    "collapsed": false
   },
   "outputs": [
    {
     "data": {
      "text/html": [
       "<div>\n",
       "<style scoped>\n",
       "    .dataframe tbody tr th:only-of-type {\n",
       "        vertical-align: middle;\n",
       "    }\n",
       "\n",
       "    .dataframe tbody tr th {\n",
       "        vertical-align: top;\n",
       "    }\n",
       "\n",
       "    .dataframe thead th {\n",
       "        text-align: right;\n",
       "    }\n",
       "</style>\n",
       "<table border=\"1\" class=\"dataframe\">\n",
       "  <thead>\n",
       "    <tr style=\"text-align: right;\">\n",
       "      <th></th>\n",
       "      <th>genre_name</th>\n",
       "      <th>num_tracks_sold</th>\n",
       "      <th>percent_sold</th>\n",
       "    </tr>\n",
       "  </thead>\n",
       "  <tbody>\n",
       "    <tr>\n",
       "      <th>0</th>\n",
       "      <td>Rock</td>\n",
       "      <td>561</td>\n",
       "      <td>0.533777</td>\n",
       "    </tr>\n",
       "    <tr>\n",
       "      <th>1</th>\n",
       "      <td>Alternative &amp; Punk</td>\n",
       "      <td>130</td>\n",
       "      <td>0.123692</td>\n",
       "    </tr>\n",
       "    <tr>\n",
       "      <th>2</th>\n",
       "      <td>Metal</td>\n",
       "      <td>124</td>\n",
       "      <td>0.117983</td>\n",
       "    </tr>\n",
       "    <tr>\n",
       "      <th>3</th>\n",
       "      <td>R&amp;B/Soul</td>\n",
       "      <td>53</td>\n",
       "      <td>0.050428</td>\n",
       "    </tr>\n",
       "    <tr>\n",
       "      <th>4</th>\n",
       "      <td>Blues</td>\n",
       "      <td>36</td>\n",
       "      <td>0.034253</td>\n",
       "    </tr>\n",
       "    <tr>\n",
       "      <th>5</th>\n",
       "      <td>Alternative</td>\n",
       "      <td>35</td>\n",
       "      <td>0.033302</td>\n",
       "    </tr>\n",
       "    <tr>\n",
       "      <th>6</th>\n",
       "      <td>Latin</td>\n",
       "      <td>22</td>\n",
       "      <td>0.020932</td>\n",
       "    </tr>\n",
       "    <tr>\n",
       "      <th>7</th>\n",
       "      <td>Pop</td>\n",
       "      <td>22</td>\n",
       "      <td>0.020932</td>\n",
       "    </tr>\n",
       "    <tr>\n",
       "      <th>8</th>\n",
       "      <td>Hip Hop/Rap</td>\n",
       "      <td>20</td>\n",
       "      <td>0.019029</td>\n",
       "    </tr>\n",
       "    <tr>\n",
       "      <th>9</th>\n",
       "      <td>Jazz</td>\n",
       "      <td>14</td>\n",
       "      <td>0.013321</td>\n",
       "    </tr>\n",
       "    <tr>\n",
       "      <th>10</th>\n",
       "      <td>Easy Listening</td>\n",
       "      <td>13</td>\n",
       "      <td>0.012369</td>\n",
       "    </tr>\n",
       "    <tr>\n",
       "      <th>11</th>\n",
       "      <td>Reggae</td>\n",
       "      <td>6</td>\n",
       "      <td>0.005709</td>\n",
       "    </tr>\n",
       "    <tr>\n",
       "      <th>12</th>\n",
       "      <td>Electronica/Dance</td>\n",
       "      <td>5</td>\n",
       "      <td>0.004757</td>\n",
       "    </tr>\n",
       "    <tr>\n",
       "      <th>13</th>\n",
       "      <td>Classical</td>\n",
       "      <td>4</td>\n",
       "      <td>0.003806</td>\n",
       "    </tr>\n",
       "    <tr>\n",
       "      <th>14</th>\n",
       "      <td>Heavy Metal</td>\n",
       "      <td>3</td>\n",
       "      <td>0.002854</td>\n",
       "    </tr>\n",
       "    <tr>\n",
       "      <th>15</th>\n",
       "      <td>Soundtrack</td>\n",
       "      <td>2</td>\n",
       "      <td>0.001903</td>\n",
       "    </tr>\n",
       "    <tr>\n",
       "      <th>16</th>\n",
       "      <td>TV Shows</td>\n",
       "      <td>1</td>\n",
       "      <td>0.000951</td>\n",
       "    </tr>\n",
       "  </tbody>\n",
       "</table>\n",
       "</div>"
      ],
      "text/plain": [
       "            genre_name  num_tracks_sold  percent_sold\n",
       "0                 Rock              561      0.533777\n",
       "1   Alternative & Punk              130      0.123692\n",
       "2                Metal              124      0.117983\n",
       "3             R&B/Soul               53      0.050428\n",
       "4                Blues               36      0.034253\n",
       "5          Alternative               35      0.033302\n",
       "6                Latin               22      0.020932\n",
       "7                  Pop               22      0.020932\n",
       "8          Hip Hop/Rap               20      0.019029\n",
       "9                 Jazz               14      0.013321\n",
       "10      Easy Listening               13      0.012369\n",
       "11              Reggae                6      0.005709\n",
       "12   Electronica/Dance                5      0.004757\n",
       "13           Classical                4      0.003806\n",
       "14         Heavy Metal                3      0.002854\n",
       "15          Soundtrack                2      0.001903\n",
       "16            TV Shows                1      0.000951"
      ]
     },
     "execution_count": 9,
     "metadata": {},
     "output_type": "execute_result"
    }
   ],
   "source": [
    "run_query(usa_query)"
   ]
  },
  {
   "cell_type": "code",
   "execution_count": 13,
   "metadata": {
    "collapsed": false
   },
   "outputs": [
    {
     "data": {
      "image/png": "[encoded data removed]",
      "text/plain": [
       "<matplotlib.figure.Figure at 0x7ffa1b018978>"
      ]
     },
     "metadata": {},
     "output_type": "display_data"
    }
   ],
   "source": [
    "genre_sales_usa = run_query(usa_query)\n",
    "genre_sales_usa.set_index('genre_name', inplace = True)\n",
    "\n",
    "genre_sales_usa['num_tracks_sold'].plot.barh(\n",
    "    title = 'Top Genres Sold in USA by Count'\n",
    ")\n",
    "plt.ylabel('')\n",
    "plt.show()"
   ]
  },
  {
   "cell_type": "markdown",
   "metadata": {
    "collapsed": true
   },
   "source": [
    "The chart shows that Rock is by far the most popular genre sold in the USA followed by Alternative & Punk and Metal.\n",
    "\n",
    "Of the four artists, I'd recommend choosing Red Tone, Slim Jim Bites, and Meteor and the Girls."
   ]
  },
  {
   "cell_type": "markdown",
   "metadata": {},
   "source": [
    "### Analyzing Employee Sales Performance\n",
    "\n",
    "Every customer in Chinook is assigned a sales support agent. This task is to analyze each employee to see if any sales support agent is performing either better or worse than the others."
   ]
  },
  {
   "cell_type": "code",
   "execution_count": 14,
   "metadata": {
    "collapsed": true
   },
   "outputs": [],
   "source": [
    "sales_query = '''\n",
    "WITH\n",
    "\tcustomer_sales AS\n",
    "\t\t(\n",
    "\t\tSELECT\n",
    "\t\t\tc.customer_id,\n",
    "\t\t\tc.first_name || \" \" || c.last_name AS customer_name,\n",
    "\t\t\tc.support_rep_id,\n",
    "\t\t\ti.total\n",
    "\t\tFROM customer AS c\n",
    "\t\tINNER JOIN invoice AS i ON c.customer_id = i.customer_id\n",
    "\t\t)\n",
    "\n",
    "SELECT\n",
    "\te.first_name || \" \" || e.last_name AS employee_name,\n",
    "\te.hire_date,\n",
    "\tSUM(cs.total) AS total\n",
    "FROM customer_sales AS cs\n",
    "INNER JOIN employee AS e ON cs.support_rep_id = e.employee_id\n",
    "GROUP BY employee_name\n",
    "'''"
   ]
  },
  {
   "cell_type": "code",
   "execution_count": 15,
   "metadata": {
    "collapsed": false
   },
   "outputs": [
    {
     "data": {
      "text/html": [
       "<div>\n",
       "<style scoped>\n",
       "    .dataframe tbody tr th:only-of-type {\n",
       "        vertical-align: middle;\n",
       "    }\n",
       "\n",
       "    .dataframe tbody tr th {\n",
       "        vertical-align: top;\n",
       "    }\n",
       "\n",
       "    .dataframe thead th {\n",
       "        text-align: right;\n",
       "    }\n",
       "</style>\n",
       "<table border=\"1\" class=\"dataframe\">\n",
       "  <thead>\n",
       "    <tr style=\"text-align: right;\">\n",
       "      <th></th>\n",
       "      <th>employee_name</th>\n",
       "      <th>hire_date</th>\n",
       "      <th>total</th>\n",
       "    </tr>\n",
       "  </thead>\n",
       "  <tbody>\n",
       "    <tr>\n",
       "      <th>0</th>\n",
       "      <td>Jane Peacock</td>\n",
       "      <td>2017-04-01 00:00:00</td>\n",
       "      <td>1731.51</td>\n",
       "    </tr>\n",
       "    <tr>\n",
       "      <th>1</th>\n",
       "      <td>Margaret Park</td>\n",
       "      <td>2017-05-03 00:00:00</td>\n",
       "      <td>1584.00</td>\n",
       "    </tr>\n",
       "    <tr>\n",
       "      <th>2</th>\n",
       "      <td>Steve Johnson</td>\n",
       "      <td>2017-10-17 00:00:00</td>\n",
       "      <td>1393.92</td>\n",
       "    </tr>\n",
       "  </tbody>\n",
       "</table>\n",
       "</div>"
      ],
      "text/plain": [
       "   employee_name            hire_date    total\n",
       "0   Jane Peacock  2017-04-01 00:00:00  1731.51\n",
       "1  Margaret Park  2017-05-03 00:00:00  1584.00\n",
       "2  Steve Johnson  2017-10-17 00:00:00  1393.92"
      ]
     },
     "execution_count": 15,
     "metadata": {},
     "output_type": "execute_result"
    }
   ],
   "source": [
    "run_query(sales_query)"
   ]
  },
  {
   "cell_type": "code",
   "execution_count": 18,
   "metadata": {
    "collapsed": false
   },
   "outputs": [
    {
     "data": {
      "image/png": "[encoded data removed]",
      "text/plain": [
       "<matplotlib.figure.Figure at 0x7ffa1b1c1d68>"
      ]
     },
     "metadata": {},
     "output_type": "display_data"
    }
   ],
   "source": [
    "sales_performance = run_query(sales_query)\n",
    "sales_performance.set_index('employee_name', inplace = True)\n",
    "\n",
    "sales_performance['total'].plot.barh(\n",
    "title = 'Sales Generated by Sales Support Agent')\n",
    "\n",
    "plt.ylabel(\"\")\n",
    "plt.show()"
   ]
  },
  {
   "cell_type": "markdown",
   "metadata": {},
   "source": [
    "Jane generated about 24.22% more revenue than Steve. This is possibly because Jane was hired earlier than Steve so she had more time to rack up sales."
   ]
  },
  {
   "cell_type": "markdown",
   "metadata": {},
   "source": [
    "### Analyzing Sales by Country\n",
    "\n",
    "The next task is to look at sales data for customers from each different country. Instead of using the country column from invoice table, we'll be using the country column from the customers table.\n",
    "\n",
    "In particular, we're going to calculate for each country:\n",
    "- total number of customers\n",
    "- total value of sales\n",
    "- average value of sales per customer\n",
    "- average order value"
   ]
  },
  {
   "cell_type": "code",
   "execution_count": 27,
   "metadata": {
    "collapsed": true
   },
   "outputs": [],
   "source": [
    "sales_query = '''\n",
    "WITH country_case AS\n",
    "\t(\n",
    "\tSELECT\n",
    "\t\tCASE\n",
    "\t\t\tWHEN (\n",
    "\t\t\t\tSELECT COUNT(*)\n",
    "\t\t\t\tFROM customer\n",
    "\t\t\t\tWHERE country = c.country\n",
    "\t\t\t\t) = 1 THEN \"Other\"\n",
    "\t\t\tELSE c.country\n",
    "\t\tEND AS country,\n",
    "\t\tc.customer_id,\n",
    "\t\ti.invoice_id,\n",
    "\t\ti.total\n",
    "\tFROM customer AS c\n",
    "\tINNER JOIN invoice AS i ON i.customer_id = c.customer_id\n",
    "\t)\n",
    "    \n",
    "SELECT\n",
    "    country,\n",
    "    num_customers,\n",
    "    total_sales,\n",
    "    value_per_customer,\n",
    "    value_per_order\n",
    "FROM\n",
    "    (\n",
    "    SELECT\n",
    "        cc.country AS country,\n",
    "        COUNT(DISTINCT cc.customer_id) AS num_customers,\n",
    "        SUM(cc.total) AS total_sales,\n",
    "        SUM(cc.total) / COUNT(DISTINCT cc.customer_id) AS value_per_customer,\n",
    "        SUM(cc.total) / COUNT(DISTINCT cc.invoice_id) AS value_per_order,\n",
    "        CASE\n",
    "            WHEN cc.country = \"Other\" THEN 1\n",
    "            ELSE 0\n",
    "        END AS sort\n",
    "    FROM country_case AS cc\n",
    "    GROUP BY cc.country\n",
    "    ORDER BY sort ASC, total_sales DESC\n",
    "    )\n",
    "'''"
   ]
  },
  {
   "cell_type": "code",
   "execution_count": 28,
   "metadata": {
    "collapsed": false
   },
   "outputs": [
    {
     "data": {
      "text/html": [
       "<div>\n",
       "<style scoped>\n",
       "    .dataframe tbody tr th:only-of-type {\n",
       "        vertical-align: middle;\n",
       "    }\n",
       "\n",
       "    .dataframe tbody tr th {\n",
       "        vertical-align: top;\n",
       "    }\n",
       "\n",
       "    .dataframe thead th {\n",
       "        text-align: right;\n",
       "    }\n",
       "</style>\n",
       "<table border=\"1\" class=\"dataframe\">\n",
       "  <thead>\n",
       "    <tr style=\"text-align: right;\">\n",
       "      <th></th>\n",
       "      <th>country</th>\n",
       "      <th>num_customers</th>\n",
       "      <th>total_sales</th>\n",
       "      <th>value_per_customer</th>\n",
       "      <th>value_per_order</th>\n",
       "    </tr>\n",
       "  </thead>\n",
       "  <tbody>\n",
       "    <tr>\n",
       "      <th>0</th>\n",
       "      <td>USA</td>\n",
       "      <td>13</td>\n",
       "      <td>1040.49</td>\n",
       "      <td>80.037692</td>\n",
       "      <td>7.942672</td>\n",
       "    </tr>\n",
       "    <tr>\n",
       "      <th>1</th>\n",
       "      <td>Canada</td>\n",
       "      <td>8</td>\n",
       "      <td>535.59</td>\n",
       "      <td>66.948750</td>\n",
       "      <td>7.047237</td>\n",
       "    </tr>\n",
       "    <tr>\n",
       "      <th>2</th>\n",
       "      <td>Brazil</td>\n",
       "      <td>5</td>\n",
       "      <td>427.68</td>\n",
       "      <td>85.536000</td>\n",
       "      <td>7.011148</td>\n",
       "    </tr>\n",
       "    <tr>\n",
       "      <th>3</th>\n",
       "      <td>France</td>\n",
       "      <td>5</td>\n",
       "      <td>389.07</td>\n",
       "      <td>77.814000</td>\n",
       "      <td>7.781400</td>\n",
       "    </tr>\n",
       "    <tr>\n",
       "      <th>4</th>\n",
       "      <td>Germany</td>\n",
       "      <td>4</td>\n",
       "      <td>334.62</td>\n",
       "      <td>83.655000</td>\n",
       "      <td>8.161463</td>\n",
       "    </tr>\n",
       "    <tr>\n",
       "      <th>5</th>\n",
       "      <td>Czech Republic</td>\n",
       "      <td>2</td>\n",
       "      <td>273.24</td>\n",
       "      <td>136.620000</td>\n",
       "      <td>9.108000</td>\n",
       "    </tr>\n",
       "    <tr>\n",
       "      <th>6</th>\n",
       "      <td>United Kingdom</td>\n",
       "      <td>3</td>\n",
       "      <td>245.52</td>\n",
       "      <td>81.840000</td>\n",
       "      <td>8.768571</td>\n",
       "    </tr>\n",
       "    <tr>\n",
       "      <th>7</th>\n",
       "      <td>Portugal</td>\n",
       "      <td>2</td>\n",
       "      <td>185.13</td>\n",
       "      <td>92.565000</td>\n",
       "      <td>6.383793</td>\n",
       "    </tr>\n",
       "    <tr>\n",
       "      <th>8</th>\n",
       "      <td>India</td>\n",
       "      <td>2</td>\n",
       "      <td>183.15</td>\n",
       "      <td>91.575000</td>\n",
       "      <td>8.721429</td>\n",
       "    </tr>\n",
       "    <tr>\n",
       "      <th>9</th>\n",
       "      <td>Other</td>\n",
       "      <td>15</td>\n",
       "      <td>1094.94</td>\n",
       "      <td>72.996000</td>\n",
       "      <td>7.448571</td>\n",
       "    </tr>\n",
       "  </tbody>\n",
       "</table>\n",
       "</div>"
      ],
      "text/plain": [
       "          country  num_customers  total_sales  value_per_customer  \\\n",
       "0             USA             13      1040.49           80.037692   \n",
       "1          Canada              8       535.59           66.948750   \n",
       "2          Brazil              5       427.68           85.536000   \n",
       "3          France              5       389.07           77.814000   \n",
       "4         Germany              4       334.62           83.655000   \n",
       "5  Czech Republic              2       273.24          136.620000   \n",
       "6  United Kingdom              3       245.52           81.840000   \n",
       "7        Portugal              2       185.13           92.565000   \n",
       "8           India              2       183.15           91.575000   \n",
       "9           Other             15      1094.94           72.996000   \n",
       "\n",
       "   value_per_order  \n",
       "0         7.942672  \n",
       "1         7.047237  \n",
       "2         7.011148  \n",
       "3         7.781400  \n",
       "4         8.161463  \n",
       "5         9.108000  \n",
       "6         8.768571  \n",
       "7         6.383793  \n",
       "8         8.721429  \n",
       "9         7.448571  "
      ]
     },
     "execution_count": 28,
     "metadata": {},
     "output_type": "execute_result"
    }
   ],
   "source": [
    "run_query(sales_query)"
   ]
  },
  {
   "cell_type": "markdown",
   "metadata": {},
   "source": [
    "### Visualizing Sales by Country\n",
    "\n",
    "Now that we have the data, it's time to visualize it. We'll be making recommendations on which country may have potential for growth."
   ]
  },
  {
   "cell_type": "code",
   "execution_count": 37,
   "metadata": {
    "collapsed": true
   },
   "outputs": [],
   "source": [
    "country_sales = run_query(sales_query)\n",
    "country_sales.set_index('country', inplace = True)\n",
    "colors = [plt.cm.Accent(i) for i in np.linspace(0, 1, country_sales.shape[0])]"
   ]
  },
  {
   "cell_type": "code",
   "execution_count": 80,
   "metadata": {
    "collapsed": false
   },
   "outputs": [
    {
     "data": {
      "image/png": "[encoded data removed]",
      "text/plain": [
       "<matplotlib.figure.Figure at 0x7ffa181c4208>"
      ]
     },
     "metadata": {},
     "output_type": "display_data"
    }
   ],
   "source": [
    "fig, axes = plt.subplots(nrows = 2, ncols = 2, figsize=(9, 10))\n",
    "ax1, ax2, ax3, ax4 = axes.flatten()\n",
    "fig.subplots_adjust(hspace = 0.5, wspace = 0.3)\n",
    "\n",
    "# pie chart that breaks down sales by country\n",
    "country_breakdown = country_sales['total_sales'].copy().rename('')\n",
    "country_breakdown.plot.pie(\n",
    "    title = 'Sales Breakdown by Country',\n",
    "    colormap = plt.cm.Accent,\n",
    "    ax = ax1\n",
    ")\n",
    "\n",
    "# plots the number of customers against sales\n",
    "customer_vs_dollar = country_sales[['num_customers', 'total_sales']].copy()\n",
    "customer_vs_dollar.index.name = ''\n",
    "for c in customer_vs_dollar:\n",
    "    customer_vs_dollar[c] /= customer_vs_dollar[c].sum() / 100\n",
    "customer_vs_dollar.plot.bar(\n",
    "    title = 'Percent Customer vs Sales',\n",
    "    color = colors,\n",
    "    ax = ax2\n",
    ")\n",
    "\n",
    "ax2.spines['top'].set_visible(False)\n",
    "ax2.spines['right'].set_visible(False)\n",
    "ax2.tick_params(top = 'off', right = 'off')\n",
    "\n",
    "# chart that displays percent difference from mean by country\n",
    "avg_sales = country_sales['value_per_order'].copy()\n",
    "avg_sales.index.name = ''\n",
    "difference_from_avg = (avg_sales - avg_sales.mean()) * 100 / avg_sales.mean()\n",
    "difference_from_avg.drop('Other', inplace = True)\n",
    "difference_from_avg.plot.bar(\n",
    "    title = 'Percent Difference from Mean by Country',\n",
    "    color = colors,\n",
    "    ax = ax3\n",
    ")\n",
    "\n",
    "ax3.spines['top'].set_visible(False)\n",
    "ax3.spines['right'].set_visible(False)\n",
    "ax3.spines['bottom'].set_visible(False)\n",
    "ax3.tick_params(top = 'off', right = 'off', bottom = 'off')\n",
    "\n",
    "# plot the customer lifetime value for each country\n",
    "lifetime = country_sales['value_per_customer'].copy()\n",
    "lifetime.index.name = ''\n",
    "lifetime.drop('Other', inplace = True)\n",
    "lifetime.plot.bar(\n",
    "    title = 'Customer Lifetime Value by Country',\n",
    "    color = colors,\n",
    "    ax = ax4\n",
    ")\n",
    "\n",
    "ax4.spines['top'].set_visible(False)\n",
    "ax4.spines['right'].set_visible(False)\n",
    "ax4.tick_params(top = 'off', right = 'off', bottom = 'off')\n",
    "\n",
    "plt.show()"
   ]
  },
  {
   "cell_type": "markdown",
   "metadata": {},
   "source": [
    "Seems Czech Republic, United Kingdom, and India have the highest deviation in sales among the countries. This would be a great area to focus. At the same time, the customer lifetime value for the three countries are among the highest."
   ]
  },
  {
   "cell_type": "markdown",
   "metadata": {},
   "source": [
    "### Albums vs Individual Tracks\n",
    "\n",
    "Customers are allowed to make purchases in one of the two aways:\n",
    "- purchase a whole album\n",
    "- purchase a collection of one or more individual tracks\n",
    "\n",
    "The Chinook store doesn't allow customers to purchase a whole album, then add individual tracks to the same purchase. When customers purchase an album, they are charged the same price as if they added those tracks individually.\n",
    "\n",
    "The scenario here is management is currently entertaining changing the purchasing strategy to save money. The strategy is to purchase only the most popular track from each album from the record companies, instead of purchasing every song individually.\n",
    "\n",
    "Our task here is to find out what percentage of purchases are individual tracks versus whole albums.\n",
    "\n",
    "There are two 'edge cases' to consider:\n",
    "1. Albums that have only one or two tracks are likely to be purchased by customers as part of a collection of individual tracks.\n",
    "2. Customers may decide to manually select every track from an album, then add a few individual tracks from other albums to their purchase."
   ]
  },
  {
   "cell_type": "code",
   "execution_count": 81,
   "metadata": {
    "collapsed": true
   },
   "outputs": [],
   "source": [
    "track_query = '''\n",
    "WITH first_track AS\n",
    "\t(\n",
    "\t\tSELECT\n",
    "\t\t\til.invoice_id AS invoice_id,\n",
    "\t\t\tMIN(il.track_id) AS first_track_id\n",
    "\t\tFROM invoice_line AS il\n",
    "\t\tGROUP BY invoice_id\n",
    "\t)\n",
    "\n",
    "SELECT\n",
    "\talbum_purchases,\n",
    "\tCOUNT(invoice_id) AS num_of_invoices,\n",
    "\tCAST(COUNT(invoice_id) AS FLOAT) / CAST((SELECT COUNT(*) FROM invoice) AS FLOAT) AS percent_invoices\n",
    "FROM\n",
    "\t(\n",
    "\tSELECT\n",
    "\t\tfirst_track.*,\n",
    "\t\tCASE\n",
    "\t\t\tWHEN\n",
    "\t\t\t\t(\t\n",
    "\t\t\t\tSELECT t.track_id\n",
    "\t\t\t\tFROM track AS t\n",
    "\t\t\t\tWHERE t.album_id = (\n",
    "\t\t\t\t\t\t\t\t\tSELECT t2.album_id\n",
    "\t\t\t\t\t\t\t\t\tFROM track AS t2\n",
    "\t\t\t\t\t\t\t\t\tWHERE t2.track_id = first_track.first_track_id\n",
    "\t\t\t\t\t\t\t\t\t)\n",
    "\t\t\t\tEXCEPT\n",
    "\n",
    "\t\t\t\tSELECT il.track_id\n",
    "\t\t\t\tFROM invoice_line AS il\n",
    "\t\t\t\tWHERE il.invoice_id = first_track.invoice_id\t\n",
    "\t\t\t\t) IS NULL\n",
    "\t\t\tAND\n",
    "\t\t\t\t(\n",
    "\t\t\t\tSELECT il.track_id\n",
    "\t\t\t\tFROM invoice_line AS il\n",
    "\t\t\t\tWHERE il.invoice_id = first_track.invoice_id\n",
    "\t\t\t\t\n",
    "\t\t\t\tEXCEPT\n",
    "\t\t\t\t\n",
    "\t\t\t\tSELECT t.track_id\n",
    "\t\t\t\tFROM track AS t\n",
    "\t\t\t\tWHERE t.album_id = (\n",
    "\t\t\t\t\t\t\t\t\tSELECT t2.album_id\n",
    "\t\t\t\t\t\t\t\t\tFROM track AS t2\n",
    "\t\t\t\t\t\t\t\t\tWHERE t2.track_id = first_track.first_track_id\n",
    "\t\t\t\t\t\t\t\t\t)\n",
    "\t\t\t\t) IS NULL\n",
    "\t\t\tTHEN 'yes'\n",
    "\t\t\tELSE 'no'\n",
    "\t\tEND AS 'album_purchases'\n",
    "\tFROM first_track\n",
    "\t)\n",
    "GROUP BY album_purchases\n",
    "'''"
   ]
  },
  {
   "cell_type": "code",
   "execution_count": 82,
   "metadata": {
    "collapsed": false
   },
   "outputs": [
    {
     "data": {
      "text/html": [
       "<div>\n",
       "<style scoped>\n",
       "    .dataframe tbody tr th:only-of-type {\n",
       "        vertical-align: middle;\n",
       "    }\n",
       "\n",
       "    .dataframe tbody tr th {\n",
       "        vertical-align: top;\n",
       "    }\n",
       "\n",
       "    .dataframe thead th {\n",
       "        text-align: right;\n",
       "    }\n",
       "</style>\n",
       "<table border=\"1\" class=\"dataframe\">\n",
       "  <thead>\n",
       "    <tr style=\"text-align: right;\">\n",
       "      <th></th>\n",
       "      <th>album_purchases</th>\n",
       "      <th>num_of_invoices</th>\n",
       "      <th>percent_invoices</th>\n",
       "    </tr>\n",
       "  </thead>\n",
       "  <tbody>\n",
       "    <tr>\n",
       "      <th>0</th>\n",
       "      <td>no</td>\n",
       "      <td>500</td>\n",
       "      <td>0.814332</td>\n",
       "    </tr>\n",
       "    <tr>\n",
       "      <th>1</th>\n",
       "      <td>yes</td>\n",
       "      <td>114</td>\n",
       "      <td>0.185668</td>\n",
       "    </tr>\n",
       "  </tbody>\n",
       "</table>\n",
       "</div>"
      ],
      "text/plain": [
       "  album_purchases  num_of_invoices  percent_invoices\n",
       "0              no              500          0.814332\n",
       "1             yes              114          0.185668"
      ]
     },
     "execution_count": 82,
     "metadata": {},
     "output_type": "execute_result"
    }
   ],
   "source": [
    "run_query(track_query)"
   ]
  },
  {
   "cell_type": "markdown",
   "metadata": {},
   "source": [
    "Album purchases take up 18.57% of total purchases. As this is a sizable amount, I'd advise against Chinook purchasing individual tracks."
   ]
  },
  {
   "cell_type": "code",
   "execution_count": null,
   "metadata": {
    "collapsed": true
   },
   "outputs": [],
   "source": []
  }
 ],
 "metadata": {
  "kernelspec": {
   "display_name": "Python 3",
   "language": "python",
   "name": "python3"
  },
  "language_info": {
   "codemirror_mode": {
    "name": "ipython",
    "version": 3
   },
   "file_extension": ".py",
   "mimetype": "text/x-python",
   "name": "python",
   "nbconvert_exporter": "python",
   "pygments_lexer": "ipython3",
   "version": "3.4.3"
  }
 },
 "nbformat": 4,
 "nbformat_minor": 2
}
